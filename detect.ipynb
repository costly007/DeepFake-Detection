{
 "cells": [
  {
   "cell_type": "code",
   "execution_count": 1,
   "id": "8a7a7c30",
   "metadata": {},
   "outputs": [
    {
     "name": "stdout",
     "output_type": "stream",
     "text": [
      "Processing real videos...\n"
     ]
    },
    {
     "name": "stderr",
     "output_type": "stream",
     "text": [
      "100%|██████████| 364/364 [05:56<00:00,  1.02it/s]\n"
     ]
    },
    {
     "name": "stdout",
     "output_type": "stream",
     "text": [
      "Processing fake videos...\n"
     ]
    },
    {
     "name": "stderr",
     "output_type": "stream",
     "text": [
      "100%|██████████| 700/700 [11:38<00:00,  1.00it/s]\n"
     ]
    },
    {
     "name": "stdout",
     "output_type": "stream",
     "text": [
      "Data shapes: Train - (744, 10, 128, 128, 3), Validation - (159, 10, 128, 128, 3), Test - (160, 10, 128, 128, 3)\n"
     ]
    }
   ],
   "source": [
    "import os\n",
    "import cv2\n",
    "import numpy as np\n",
    "from tqdm import tqdm\n",
    "from sklearn.model_selection import train_test_split\n",
    "from tensorflow.keras.utils import to_categorical\n",
    "from tensorflow.keras.preprocessing.image import ImageDataGenerator\n",
    "\n",
    "# Dataset paths\n",
    "REAL_PATH = r\"D:\\Projects\\DeepFake_Detection\\input__data\\DFD_original sequences\"\n",
    "FAKE_PATH = r\"D:\\Projects\\DeepFake_Detection\\input__data\\DFD_manipulated_sequences\"\n",
    "OUTPUT_FRAME_SIZE = (128, 128)  # Frame dimensions\n",
    "FRAME_COUNT = 10  # Number of frames to extract per video\n",
    "MAX_VIDEOS = 700  # Number of videos to process from each category\n",
    "\n",
    "# Function to extract frames from a video\n",
    "def extract_frames(video_path, output_size=(128, 128), frame_count=10):\n",
    "    cap = cv2.VideoCapture(video_path)\n",
    "    frames = []\n",
    "    total_frames = int(cap.get(cv2.CAP_PROP_FRAME_COUNT))\n",
    "    step = max(total_frames // frame_count, 1)  # Uniform sampling\n",
    "    \n",
    "    for i in range(frame_count):\n",
    "        cap.set(cv2.CAP_PROP_POS_FRAMES, i * step)\n",
    "        ret, frame = cap.read()\n",
    "        if not ret:\n",
    "            break\n",
    "        frame = cv2.resize(frame, output_size)\n",
    "        frames.append(frame)\n",
    "    cap.release()\n",
    "    return np.array(frames)\n",
    "\n",
    "# Prepare data and labels\n",
    "data = []\n",
    "labels = []\n",
    "\n",
    "# Process real videos\n",
    "print(\"Processing real videos...\")\n",
    "real_videos = os.listdir(REAL_PATH)[:MAX_VIDEOS]   # Limit to 300 videos\n",
    "for video_file in tqdm(real_videos):\n",
    "    video_path = os.path.join(REAL_PATH, video_file)\n",
    "    frames = extract_frames(video_path, output_size=OUTPUT_FRAME_SIZE, frame_count=FRAME_COUNT)\n",
    "    if len(frames) == FRAME_COUNT:  # Ensure correct frame count\n",
    "        data.append(frames)\n",
    "        labels.append(0)  # Label 0 for real\n",
    "\n",
    "# Process fake videos\n",
    "print(\"Processing fake videos...\")\n",
    "fake_videos = os.listdir(FAKE_PATH)[:MAX_VIDEOS]  # Limit to 300 videos\n",
    "for video_file in tqdm(fake_videos):\n",
    "    video_path = os.path.join(FAKE_PATH, video_file)\n",
    "    frames = extract_frames(video_path, output_size=OUTPUT_FRAME_SIZE, frame_count=FRAME_COUNT)\n",
    "    if len(frames) == FRAME_COUNT:\n",
    "        data.append(frames)\n",
    "        labels.append(1)  # Label 1 for fake\n",
    "\n",
    "# Convert to numpy arrays\n",
    "data = np.array(data)  # Shape: (num_videos, num_frames, 128, 128, 3)\n",
    "labels = np.array(labels)\n",
    "\n",
    "# Split into train, validation, and test sets\n",
    "X_train, X_temp, y_train, y_temp = train_test_split(data, labels, test_size=0.3, random_state=42)\n",
    "X_val, X_test, y_val, y_test = train_test_split(X_temp, y_temp, test_size=0.5, random_state=42)\n",
    "\n",
    "# Normalize data\n",
    "X_train = X_train / 255.0\n",
    "X_val = X_val / 255.0\n",
    "X_test = X_test / 255.0\n",
    "\n",
    "# Convert labels to categorical\n",
    "y_train = to_categorical(y_train, num_classes=2)\n",
    "y_val = to_categorical(y_val, num_classes=2)\n",
    "y_test = to_categorical(y_test, num_classes=2)\n",
    "\n",
    "print(f\"Data shapes: Train - {X_train.shape}, Validation - {X_val.shape}, Test - {X_test.shape}\")\n"
   ]
  },
  {
   "cell_type": "code",
   "execution_count": 2,
   "id": "df4dbcbd",
   "metadata": {},
   "outputs": [
    {
     "name": "stdout",
     "output_type": "stream",
     "text": [
      "Augmented Train Data: (1488, 10, 128, 128, 3)\n"
     ]
    }
   ],
   "source": [
    "from tensorflow.keras.preprocessing.image import ImageDataGenerator\n",
    "\n",
    "# Augment frames\n",
    "datagen = ImageDataGenerator(\n",
    "    horizontal_flip=True,\n",
    "    rotation_range=10,\n",
    "    zoom_range=0.1,\n",
    "    brightness_range=[0.8, 1.2]\n",
    ")\n",
    "\n",
    "# Function to augment extracted frames\n",
    "def augment_frames(frames):\n",
    "    augmented_frames = []\n",
    "    for frame in frames:\n",
    "        frame = datagen.random_transform(frame)\n",
    "        augmented_frames.append(frame)\n",
    "    return np.array(augmented_frames)\n",
    "\n",
    "# Augment training data\n",
    "augmented_data = []\n",
    "augmented_labels = []\n",
    "\n",
    "for i in range(len(X_train)):\n",
    "    augmented_frames = augment_frames(X_train[i])\n",
    "    augmented_data.append(augmented_frames)\n",
    "    augmented_labels.append(y_train[i])\n",
    "\n",
    "# Combine original and augmented data\n",
    "X_train_augmented = np.concatenate((X_train, np.array(augmented_data)))\n",
    "y_train_augmented = np.concatenate((y_train, np.array(augmented_labels)))\n",
    "\n",
    "print(f\"Augmented Train Data: {X_train_augmented.shape}\")\n"
   ]
  },
  {
   "cell_type": "code",
   "execution_count": 3,
   "id": "17dea568",
   "metadata": {},
   "outputs": [
    {
     "data": {
      "text/html": [
       "<pre style=\"white-space:pre;overflow-x:auto;line-height:normal;font-family:Menlo,'DejaVu Sans Mono',consolas,'Courier New',monospace\"><span style=\"font-weight: bold\">Model: \"sequential\"</span>\n",
       "</pre>\n"
      ],
      "text/plain": [
       "\u001b[1mModel: \"sequential\"\u001b[0m\n"
      ]
     },
     "metadata": {},
     "output_type": "display_data"
    },
    {
     "data": {
      "text/html": [
       "<pre style=\"white-space:pre;overflow-x:auto;line-height:normal;font-family:Menlo,'DejaVu Sans Mono',consolas,'Courier New',monospace\">┏━━━━━━━━━━━━━━━━━━━━━━━━━━━━━━━━━┳━━━━━━━━━━━━━━━━━━━━━━━━┳━━━━━━━━━━━━━━━┓\n",
       "┃<span style=\"font-weight: bold\"> Layer (type)                    </span>┃<span style=\"font-weight: bold\"> Output Shape           </span>┃<span style=\"font-weight: bold\">       Param # </span>┃\n",
       "┡━━━━━━━━━━━━━━━━━━━━━━━━━━━━━━━━━╇━━━━━━━━━━━━━━━━━━━━━━━━╇━━━━━━━━━━━━━━━┩\n",
       "│ time_distributed                │ ?                      │   <span style=\"color: #00af00; text-decoration-color: #00af00\">0</span> (unbuilt) │\n",
       "│ (<span style=\"color: #0087ff; text-decoration-color: #0087ff\">TimeDistributed</span>)               │                        │               │\n",
       "├─────────────────────────────────┼────────────────────────┼───────────────┤\n",
       "│ time_distributed_1              │ ?                      │   <span style=\"color: #00af00; text-decoration-color: #00af00\">0</span> (unbuilt) │\n",
       "│ (<span style=\"color: #0087ff; text-decoration-color: #0087ff\">TimeDistributed</span>)               │                        │               │\n",
       "├─────────────────────────────────┼────────────────────────┼───────────────┤\n",
       "│ dropout (<span style=\"color: #0087ff; text-decoration-color: #0087ff\">Dropout</span>)               │ ?                      │             <span style=\"color: #00af00; text-decoration-color: #00af00\">0</span> │\n",
       "├─────────────────────────────────┼────────────────────────┼───────────────┤\n",
       "│ lstm (<span style=\"color: #0087ff; text-decoration-color: #0087ff\">LSTM</span>)                     │ ?                      │   <span style=\"color: #00af00; text-decoration-color: #00af00\">0</span> (unbuilt) │\n",
       "├─────────────────────────────────┼────────────────────────┼───────────────┤\n",
       "│ dropout_1 (<span style=\"color: #0087ff; text-decoration-color: #0087ff\">Dropout</span>)             │ ?                      │             <span style=\"color: #00af00; text-decoration-color: #00af00\">0</span> │\n",
       "├─────────────────────────────────┼────────────────────────┼───────────────┤\n",
       "│ dense (<span style=\"color: #0087ff; text-decoration-color: #0087ff\">Dense</span>)                   │ ?                      │   <span style=\"color: #00af00; text-decoration-color: #00af00\">0</span> (unbuilt) │\n",
       "├─────────────────────────────────┼────────────────────────┼───────────────┤\n",
       "│ dense_1 (<span style=\"color: #0087ff; text-decoration-color: #0087ff\">Dense</span>)                 │ ?                      │   <span style=\"color: #00af00; text-decoration-color: #00af00\">0</span> (unbuilt) │\n",
       "└─────────────────────────────────┴────────────────────────┴───────────────┘\n",
       "</pre>\n"
      ],
      "text/plain": [
       "┏━━━━━━━━━━━━━━━━━━━━━━━━━━━━━━━━━┳━━━━━━━━━━━━━━━━━━━━━━━━┳━━━━━━━━━━━━━━━┓\n",
       "┃\u001b[1m \u001b[0m\u001b[1mLayer (type)                   \u001b[0m\u001b[1m \u001b[0m┃\u001b[1m \u001b[0m\u001b[1mOutput Shape          \u001b[0m\u001b[1m \u001b[0m┃\u001b[1m \u001b[0m\u001b[1m      Param #\u001b[0m\u001b[1m \u001b[0m┃\n",
       "┡━━━━━━━━━━━━━━━━━━━━━━━━━━━━━━━━━╇━━━━━━━━━━━━━━━━━━━━━━━━╇━━━━━━━━━━━━━━━┩\n",
       "│ time_distributed                │ ?                      │   \u001b[38;5;34m0\u001b[0m (unbuilt) │\n",
       "│ (\u001b[38;5;33mTimeDistributed\u001b[0m)               │                        │               │\n",
       "├─────────────────────────────────┼────────────────────────┼───────────────┤\n",
       "│ time_distributed_1              │ ?                      │   \u001b[38;5;34m0\u001b[0m (unbuilt) │\n",
       "│ (\u001b[38;5;33mTimeDistributed\u001b[0m)               │                        │               │\n",
       "├─────────────────────────────────┼────────────────────────┼───────────────┤\n",
       "│ dropout (\u001b[38;5;33mDropout\u001b[0m)               │ ?                      │             \u001b[38;5;34m0\u001b[0m │\n",
       "├─────────────────────────────────┼────────────────────────┼───────────────┤\n",
       "│ lstm (\u001b[38;5;33mLSTM\u001b[0m)                     │ ?                      │   \u001b[38;5;34m0\u001b[0m (unbuilt) │\n",
       "├─────────────────────────────────┼────────────────────────┼───────────────┤\n",
       "│ dropout_1 (\u001b[38;5;33mDropout\u001b[0m)             │ ?                      │             \u001b[38;5;34m0\u001b[0m │\n",
       "├─────────────────────────────────┼────────────────────────┼───────────────┤\n",
       "│ dense (\u001b[38;5;33mDense\u001b[0m)                   │ ?                      │   \u001b[38;5;34m0\u001b[0m (unbuilt) │\n",
       "├─────────────────────────────────┼────────────────────────┼───────────────┤\n",
       "│ dense_1 (\u001b[38;5;33mDense\u001b[0m)                 │ ?                      │   \u001b[38;5;34m0\u001b[0m (unbuilt) │\n",
       "└─────────────────────────────────┴────────────────────────┴───────────────┘\n"
      ]
     },
     "metadata": {},
     "output_type": "display_data"
    },
    {
     "data": {
      "text/html": [
       "<pre style=\"white-space:pre;overflow-x:auto;line-height:normal;font-family:Menlo,'DejaVu Sans Mono',consolas,'Courier New',monospace\"><span style=\"font-weight: bold\"> Total params: </span><span style=\"color: #00af00; text-decoration-color: #00af00\">20,861,480</span> (79.58 MB)\n",
       "</pre>\n"
      ],
      "text/plain": [
       "\u001b[1m Total params: \u001b[0m\u001b[38;5;34m20,861,480\u001b[0m (79.58 MB)\n"
      ]
     },
     "metadata": {},
     "output_type": "display_data"
    },
    {
     "data": {
      "text/html": [
       "<pre style=\"white-space:pre;overflow-x:auto;line-height:normal;font-family:Menlo,'DejaVu Sans Mono',consolas,'Courier New',monospace\"><span style=\"font-weight: bold\"> Trainable params: </span><span style=\"color: #00af00; text-decoration-color: #00af00\">20,806,952</span> (79.37 MB)\n",
       "</pre>\n"
      ],
      "text/plain": [
       "\u001b[1m Trainable params: \u001b[0m\u001b[38;5;34m20,806,952\u001b[0m (79.37 MB)\n"
      ]
     },
     "metadata": {},
     "output_type": "display_data"
    },
    {
     "data": {
      "text/html": [
       "<pre style=\"white-space:pre;overflow-x:auto;line-height:normal;font-family:Menlo,'DejaVu Sans Mono',consolas,'Courier New',monospace\"><span style=\"font-weight: bold\"> Non-trainable params: </span><span style=\"color: #00af00; text-decoration-color: #00af00\">54,528</span> (213.00 KB)\n",
       "</pre>\n"
      ],
      "text/plain": [
       "\u001b[1m Non-trainable params: \u001b[0m\u001b[38;5;34m54,528\u001b[0m (213.00 KB)\n"
      ]
     },
     "metadata": {},
     "output_type": "display_data"
    }
   ],
   "source": [
    "import tensorflow as tf\n",
    "from tensorflow.keras.applications import Xception\n",
    "from tensorflow.keras.layers import Dense, Flatten, TimeDistributed, LSTM\n",
    "from tensorflow.keras.models import Sequential\n",
    "from tensorflow.keras.layers import Dropout\n",
    "\n",
    "# Define model\n",
    "def build_improved_model(input_shape=(FRAME_COUNT, 128, 128, 3)):\n",
    "    model = Sequential([\n",
    "        TimeDistributed(Xception(weights='imagenet', include_top=False, input_shape=(128, 128, 3))),\n",
    "        TimeDistributed(Flatten()),\n",
    "        Dropout(0.5),  # Add dropout for regularization\n",
    "        LSTM(128, return_sequences=False),\n",
    "        Dropout(0.5),  # Add dropout\n",
    "        Dense(64, activation='relu'),\n",
    "        Dense(2, activation='softmax')\n",
    "    ])\n",
    "    model.compile(optimizer=tf.keras.optimizers.Adam(learning_rate=0.0001),\n",
    "                  loss='categorical_crossentropy',\n",
    "                  metrics=['accuracy'])\n",
    "    return model\n",
    "\n",
    "model = build_improved_model()\n",
    "model.summary()"
   ]
  },
  {
   "cell_type": "code",
   "execution_count": null,
   "id": "ca9f7d81",
   "metadata": {},
   "outputs": [],
   "source": []
  },
  {
   "cell_type": "code",
   "execution_count": 4,
   "id": "b463b22f",
   "metadata": {},
   "outputs": [
    {
     "name": "stdout",
     "output_type": "stream",
     "text": [
      "Epoch 1/40\n",
      "\u001b[1m149/149\u001b[0m \u001b[32m━━━━━━━━━━━━━━━━━━━━\u001b[0m\u001b[37m\u001b[0m \u001b[1m0s\u001b[0m 6s/step - accuracy: 0.6563 - loss: 0.6699\n",
      "Epoch 1: val_accuracy improved from -inf to 0.75472, saving model to deepfake_detection_model.keras\n",
      "\u001b[1m149/149\u001b[0m \u001b[32m━━━━━━━━━━━━━━━━━━━━\u001b[0m\u001b[37m\u001b[0m \u001b[1m955s\u001b[0m 6s/step - accuracy: 0.6564 - loss: 0.6697 - val_accuracy: 0.7547 - val_loss: 0.5547 - learning_rate: 1.0000e-04\n",
      "Epoch 2/40\n",
      "\u001b[1m149/149\u001b[0m \u001b[32m━━━━━━━━━━━━━━━━━━━━\u001b[0m\u001b[37m\u001b[0m \u001b[1m0s\u001b[0m 6s/step - accuracy: 0.7073 - loss: 0.5891\n",
      "Epoch 2: val_accuracy improved from 0.75472 to 0.85535, saving model to deepfake_detection_model.keras\n",
      "\u001b[1m149/149\u001b[0m \u001b[32m━━━━━━━━━━━━━━━━━━━━\u001b[0m\u001b[37m\u001b[0m \u001b[1m876s\u001b[0m 6s/step - accuracy: 0.7075 - loss: 0.5889 - val_accuracy: 0.8553 - val_loss: 0.3816 - learning_rate: 1.0000e-04\n",
      "Epoch 3/40\n",
      "\u001b[1m149/149\u001b[0m \u001b[32m━━━━━━━━━━━━━━━━━━━━\u001b[0m\u001b[37m\u001b[0m \u001b[1m0s\u001b[0m 6s/step - accuracy: 0.7802 - loss: 0.4923\n",
      "Epoch 3: val_accuracy improved from 0.85535 to 0.90566, saving model to deepfake_detection_model.keras\n",
      "\u001b[1m149/149\u001b[0m \u001b[32m━━━━━━━━━━━━━━━━━━━━\u001b[0m\u001b[37m\u001b[0m \u001b[1m880s\u001b[0m 6s/step - accuracy: 0.7802 - loss: 0.4924 - val_accuracy: 0.9057 - val_loss: 0.3055 - learning_rate: 1.0000e-04\n",
      "Epoch 4/40\n",
      "\u001b[1m149/149\u001b[0m \u001b[32m━━━━━━━━━━━━━━━━━━━━\u001b[0m\u001b[37m\u001b[0m \u001b[1m0s\u001b[0m 6s/step - accuracy: 0.7818 - loss: 0.4969\n",
      "Epoch 4: val_accuracy did not improve from 0.90566\n",
      "\u001b[1m149/149\u001b[0m \u001b[32m━━━━━━━━━━━━━━━━━━━━\u001b[0m\u001b[37m\u001b[0m \u001b[1m872s\u001b[0m 6s/step - accuracy: 0.7817 - loss: 0.4970 - val_accuracy: 0.8868 - val_loss: 0.3533 - learning_rate: 1.0000e-04\n",
      "Epoch 5/40\n",
      "\u001b[1m149/149\u001b[0m \u001b[32m━━━━━━━━━━━━━━━━━━━━\u001b[0m\u001b[37m\u001b[0m \u001b[1m0s\u001b[0m 6s/step - accuracy: 0.7678 - loss: 0.4854\n",
      "Epoch 5: val_accuracy did not improve from 0.90566\n",
      "\u001b[1m149/149\u001b[0m \u001b[32m━━━━━━━━━━━━━━━━━━━━\u001b[0m\u001b[37m\u001b[0m \u001b[1m875s\u001b[0m 6s/step - accuracy: 0.7678 - loss: 0.4854 - val_accuracy: 0.8868 - val_loss: 0.3380 - learning_rate: 1.0000e-04\n",
      "Epoch 6/40\n",
      "\u001b[1m149/149\u001b[0m \u001b[32m━━━━━━━━━━━━━━━━━━━━\u001b[0m\u001b[37m\u001b[0m \u001b[1m0s\u001b[0m 6s/step - accuracy: 0.7832 - loss: 0.4654\n",
      "Epoch 6: val_accuracy did not improve from 0.90566\n",
      "\u001b[1m149/149\u001b[0m \u001b[32m━━━━━━━━━━━━━━━━━━━━\u001b[0m\u001b[37m\u001b[0m \u001b[1m873s\u001b[0m 6s/step - accuracy: 0.7831 - loss: 0.4654 - val_accuracy: 0.8994 - val_loss: 0.3047 - learning_rate: 1.0000e-04\n",
      "Epoch 7/40\n",
      "\u001b[1m149/149\u001b[0m \u001b[32m━━━━━━━━━━━━━━━━━━━━\u001b[0m\u001b[37m\u001b[0m \u001b[1m0s\u001b[0m 6s/step - accuracy: 0.7803 - loss: 0.4682\n",
      "Epoch 7: val_accuracy did not improve from 0.90566\n",
      "\u001b[1m149/149\u001b[0m \u001b[32m━━━━━━━━━━━━━━━━━━━━\u001b[0m\u001b[37m\u001b[0m \u001b[1m876s\u001b[0m 6s/step - accuracy: 0.7803 - loss: 0.4682 - val_accuracy: 0.8931 - val_loss: 0.3059 - learning_rate: 1.0000e-04\n",
      "Epoch 8/40\n",
      "\u001b[1m149/149\u001b[0m \u001b[32m━━━━━━━━━━━━━━━━━━━━\u001b[0m\u001b[37m\u001b[0m \u001b[1m0s\u001b[0m 6s/step - accuracy: 0.8208 - loss: 0.4176\n",
      "Epoch 8: val_accuracy did not improve from 0.90566\n",
      "\u001b[1m149/149\u001b[0m \u001b[32m━━━━━━━━━━━━━━━━━━━━\u001b[0m\u001b[37m\u001b[0m \u001b[1m875s\u001b[0m 6s/step - accuracy: 0.8206 - loss: 0.4178 - val_accuracy: 0.8616 - val_loss: 0.5025 - learning_rate: 1.0000e-04\n",
      "Epoch 9/40\n",
      "\u001b[1m149/149\u001b[0m \u001b[32m━━━━━━━━━━━━━━━━━━━━\u001b[0m\u001b[37m\u001b[0m \u001b[1m0s\u001b[0m 6s/step - accuracy: 0.8066 - loss: 0.4300\n",
      "Epoch 9: val_accuracy did not improve from 0.90566\n",
      "\n",
      "Epoch 9: ReduceLROnPlateau reducing learning rate to 4.999999873689376e-05.\n",
      "\u001b[1m149/149\u001b[0m \u001b[32m━━━━━━━━━━━━━━━━━━━━\u001b[0m\u001b[37m\u001b[0m \u001b[1m874s\u001b[0m 6s/step - accuracy: 0.8066 - loss: 0.4300 - val_accuracy: 0.8994 - val_loss: 0.3264 - learning_rate: 1.0000e-04\n",
      "Epoch 10/40\n",
      "\u001b[1m149/149\u001b[0m \u001b[32m━━━━━━━━━━━━━━━━━━━━\u001b[0m\u001b[37m\u001b[0m \u001b[1m0s\u001b[0m 6s/step - accuracy: 0.8016 - loss: 0.4282\n",
      "Epoch 10: val_accuracy did not improve from 0.90566\n",
      "\u001b[1m149/149\u001b[0m \u001b[32m━━━━━━━━━━━━━━━━━━━━\u001b[0m\u001b[37m\u001b[0m \u001b[1m875s\u001b[0m 6s/step - accuracy: 0.8016 - loss: 0.4283 - val_accuracy: 0.8994 - val_loss: 0.3383 - learning_rate: 5.0000e-05\n",
      "Epoch 11/40\n",
      "\u001b[1m149/149\u001b[0m \u001b[32m━━━━━━━━━━━━━━━━━━━━\u001b[0m\u001b[37m\u001b[0m \u001b[1m0s\u001b[0m 6s/step - accuracy: 0.8062 - loss: 0.4211\n",
      "Epoch 11: val_accuracy improved from 0.90566 to 0.93082, saving model to deepfake_detection_model.keras\n",
      "\u001b[1m149/149\u001b[0m \u001b[32m━━━━━━━━━━━━━━━━━━━━\u001b[0m\u001b[37m\u001b[0m \u001b[1m878s\u001b[0m 6s/step - accuracy: 0.8062 - loss: 0.4211 - val_accuracy: 0.9308 - val_loss: 0.2973 - learning_rate: 5.0000e-05\n",
      "Epoch 12/40\n",
      "\u001b[1m149/149\u001b[0m \u001b[32m━━━━━━━━━━━━━━━━━━━━\u001b[0m\u001b[37m\u001b[0m \u001b[1m0s\u001b[0m 6s/step - accuracy: 0.7870 - loss: 0.4077\n",
      "Epoch 12: val_accuracy did not improve from 0.93082\n",
      "\u001b[1m149/149\u001b[0m \u001b[32m━━━━━━━━━━━━━━━━━━━━\u001b[0m\u001b[37m\u001b[0m \u001b[1m885s\u001b[0m 6s/step - accuracy: 0.7871 - loss: 0.4077 - val_accuracy: 0.9245 - val_loss: 0.2984 - learning_rate: 5.0000e-05\n",
      "Epoch 13/40\n",
      "\u001b[1m149/149\u001b[0m \u001b[32m━━━━━━━━━━━━━━━━━━━━\u001b[0m\u001b[37m\u001b[0m \u001b[1m0s\u001b[0m 6s/step - accuracy: 0.7886 - loss: 0.4252\n",
      "Epoch 13: val_accuracy did not improve from 0.93082\n",
      "\u001b[1m149/149\u001b[0m \u001b[32m━━━━━━━━━━━━━━━━━━━━\u001b[0m\u001b[37m\u001b[0m \u001b[1m882s\u001b[0m 6s/step - accuracy: 0.7887 - loss: 0.4252 - val_accuracy: 0.9245 - val_loss: 0.3073 - learning_rate: 5.0000e-05\n",
      "Epoch 14/40\n",
      "\u001b[1m149/149\u001b[0m \u001b[32m━━━━━━━━━━━━━━━━━━━━\u001b[0m\u001b[37m\u001b[0m \u001b[1m0s\u001b[0m 6s/step - accuracy: 0.8073 - loss: 0.3974\n",
      "Epoch 14: val_accuracy did not improve from 0.93082\n",
      "\n",
      "Epoch 14: ReduceLROnPlateau reducing learning rate to 2.499999936844688e-05.\n",
      "\u001b[1m149/149\u001b[0m \u001b[32m━━━━━━━━━━━━━━━━━━━━\u001b[0m\u001b[37m\u001b[0m \u001b[1m878s\u001b[0m 6s/step - accuracy: 0.8073 - loss: 0.3974 - val_accuracy: 0.9119 - val_loss: 0.3360 - learning_rate: 5.0000e-05\n",
      "Epoch 15/40\n",
      "\u001b[1m149/149\u001b[0m \u001b[32m━━━━━━━━━━━━━━━━━━━━\u001b[0m\u001b[37m\u001b[0m \u001b[1m0s\u001b[0m 6s/step - accuracy: 0.8161 - loss: 0.4066\n",
      "Epoch 15: val_accuracy did not improve from 0.93082\n",
      "\u001b[1m149/149\u001b[0m \u001b[32m━━━━━━━━━━━━━━━━━━━━\u001b[0m\u001b[37m\u001b[0m \u001b[1m877s\u001b[0m 6s/step - accuracy: 0.8160 - loss: 0.4065 - val_accuracy: 0.9308 - val_loss: 0.3254 - learning_rate: 2.5000e-05\n",
      "Epoch 16/40\n",
      "\u001b[1m149/149\u001b[0m \u001b[32m━━━━━━━━━━━━━━━━━━━━\u001b[0m\u001b[37m\u001b[0m \u001b[1m0s\u001b[0m 6s/step - accuracy: 0.8178 - loss: 0.3833\n",
      "Epoch 16: val_accuracy did not improve from 0.93082\n",
      "\u001b[1m149/149\u001b[0m \u001b[32m━━━━━━━━━━━━━━━━━━━━\u001b[0m\u001b[37m\u001b[0m \u001b[1m880s\u001b[0m 6s/step - accuracy: 0.8178 - loss: 0.3834 - val_accuracy: 0.9308 - val_loss: 0.3121 - learning_rate: 2.5000e-05\n",
      "Epoch 17/40\n",
      "\u001b[1m149/149\u001b[0m \u001b[32m━━━━━━━━━━━━━━━━━━━━\u001b[0m\u001b[37m\u001b[0m \u001b[1m0s\u001b[0m 6s/step - accuracy: 0.8221 - loss: 0.3809\n",
      "Epoch 17: val_accuracy improved from 0.93082 to 0.93711, saving model to deepfake_detection_model.keras\n",
      "\n",
      "Epoch 17: ReduceLROnPlateau reducing learning rate to 1.249999968422344e-05.\n",
      "\u001b[1m149/149\u001b[0m \u001b[32m━━━━━━━━━━━━━━━━━━━━\u001b[0m\u001b[37m\u001b[0m \u001b[1m883s\u001b[0m 6s/step - accuracy: 0.8220 - loss: 0.3810 - val_accuracy: 0.9371 - val_loss: 0.3023 - learning_rate: 2.5000e-05\n",
      "Epoch 18/40\n",
      "\u001b[1m149/149\u001b[0m \u001b[32m━━━━━━━━━━━━━━━━━━━━\u001b[0m\u001b[37m\u001b[0m \u001b[1m0s\u001b[0m 6s/step - accuracy: 0.8223 - loss: 0.3792\n",
      "Epoch 18: val_accuracy did not improve from 0.93711\n",
      "\u001b[1m149/149\u001b[0m \u001b[32m━━━━━━━━━━━━━━━━━━━━\u001b[0m\u001b[37m\u001b[0m \u001b[1m879s\u001b[0m 6s/step - accuracy: 0.8223 - loss: 0.3793 - val_accuracy: 0.9308 - val_loss: 0.3056 - learning_rate: 1.2500e-05\n",
      "Epoch 19/40\n",
      "\u001b[1m149/149\u001b[0m \u001b[32m━━━━━━━━━━━━━━━━━━━━\u001b[0m\u001b[37m\u001b[0m \u001b[1m0s\u001b[0m 6s/step - accuracy: 0.8123 - loss: 0.3814\n",
      "Epoch 19: val_accuracy did not improve from 0.93711\n",
      "\u001b[1m149/149\u001b[0m \u001b[32m━━━━━━━━━━━━━━━━━━━━\u001b[0m\u001b[37m\u001b[0m \u001b[1m873s\u001b[0m 6s/step - accuracy: 0.8123 - loss: 0.3815 - val_accuracy: 0.9308 - val_loss: 0.3084 - learning_rate: 1.2500e-05\n",
      "Epoch 20/40\n",
      "\u001b[1m149/149\u001b[0m \u001b[32m━━━━━━━━━━━━━━━━━━━━\u001b[0m\u001b[37m\u001b[0m \u001b[1m0s\u001b[0m 6s/step - accuracy: 0.8227 - loss: 0.3761\n",
      "Epoch 20: val_accuracy did not improve from 0.93711\n",
      "\n",
      "Epoch 20: ReduceLROnPlateau reducing learning rate to 6.24999984211172e-06.\n",
      "\u001b[1m149/149\u001b[0m \u001b[32m━━━━━━━━━━━━━━━━━━━━\u001b[0m\u001b[37m\u001b[0m \u001b[1m878s\u001b[0m 6s/step - accuracy: 0.8226 - loss: 0.3761 - val_accuracy: 0.9308 - val_loss: 0.3157 - learning_rate: 1.2500e-05\n",
      "Epoch 21/40\n",
      "\u001b[1m149/149\u001b[0m \u001b[32m━━━━━━━━━━━━━━━━━━━━\u001b[0m\u001b[37m\u001b[0m \u001b[1m0s\u001b[0m 6s/step - accuracy: 0.8104 - loss: 0.3743\n",
      "Epoch 21: val_accuracy did not improve from 0.93711\n",
      "\u001b[1m149/149\u001b[0m \u001b[32m━━━━━━━━━━━━━━━━━━━━\u001b[0m\u001b[37m\u001b[0m \u001b[1m877s\u001b[0m 6s/step - accuracy: 0.8104 - loss: 0.3743 - val_accuracy: 0.9245 - val_loss: 0.3147 - learning_rate: 6.2500e-06\n",
      "Epoch 22/40\n",
      "\u001b[1m149/149\u001b[0m \u001b[32m━━━━━━━━━━━━━━━━━━━━\u001b[0m\u001b[37m\u001b[0m \u001b[1m0s\u001b[0m 6s/step - accuracy: 0.8214 - loss: 0.3728\n",
      "Epoch 22: val_accuracy did not improve from 0.93711\n",
      "\u001b[1m149/149\u001b[0m \u001b[32m━━━━━━━━━━━━━━━━━━━━\u001b[0m\u001b[37m\u001b[0m \u001b[1m875s\u001b[0m 6s/step - accuracy: 0.8214 - loss: 0.3728 - val_accuracy: 0.9245 - val_loss: 0.3235 - learning_rate: 6.2500e-06\n",
      "Epoch 23/40\n",
      "\u001b[1m149/149\u001b[0m \u001b[32m━━━━━━━━━━━━━━━━━━━━\u001b[0m\u001b[37m\u001b[0m \u001b[1m0s\u001b[0m 6s/step - accuracy: 0.8164 - loss: 0.3751\n",
      "Epoch 23: val_accuracy did not improve from 0.93711\n",
      "\n",
      "Epoch 23: ReduceLROnPlateau reducing learning rate to 3.12499992105586e-06.\n",
      "\u001b[1m149/149\u001b[0m \u001b[32m━━━━━━━━━━━━━━━━━━━━\u001b[0m\u001b[37m\u001b[0m \u001b[1m880s\u001b[0m 6s/step - accuracy: 0.8164 - loss: 0.3751 - val_accuracy: 0.9308 - val_loss: 0.3217 - learning_rate: 6.2500e-06\n",
      "Epoch 24/40\n",
      "\u001b[1m149/149\u001b[0m \u001b[32m━━━━━━━━━━━━━━━━━━━━\u001b[0m\u001b[37m\u001b[0m \u001b[1m0s\u001b[0m 6s/step - accuracy: 0.8233 - loss: 0.3624\n",
      "Epoch 24: val_accuracy did not improve from 0.93711\n",
      "\u001b[1m149/149\u001b[0m \u001b[32m━━━━━━━━━━━━━━━━━━━━\u001b[0m\u001b[37m\u001b[0m \u001b[1m879s\u001b[0m 6s/step - accuracy: 0.8233 - loss: 0.3624 - val_accuracy: 0.9308 - val_loss: 0.3202 - learning_rate: 3.1250e-06\n",
      "Epoch 25/40\n",
      "\u001b[1m149/149\u001b[0m \u001b[32m━━━━━━━━━━━━━━━━━━━━\u001b[0m\u001b[37m\u001b[0m \u001b[1m0s\u001b[0m 6s/step - accuracy: 0.8094 - loss: 0.3779\n",
      "Epoch 25: val_accuracy did not improve from 0.93711\n",
      "\u001b[1m149/149\u001b[0m \u001b[32m━━━━━━━━━━━━━━━━━━━━\u001b[0m\u001b[37m\u001b[0m \u001b[1m880s\u001b[0m 6s/step - accuracy: 0.8095 - loss: 0.3778 - val_accuracy: 0.9308 - val_loss: 0.3141 - learning_rate: 3.1250e-06\n",
      "Epoch 26/40\n",
      "\u001b[1m149/149\u001b[0m \u001b[32m━━━━━━━━━━━━━━━━━━━━\u001b[0m\u001b[37m\u001b[0m \u001b[1m0s\u001b[0m 6s/step - accuracy: 0.8246 - loss: 0.3640\n",
      "Epoch 26: val_accuracy did not improve from 0.93711\n",
      "\n",
      "Epoch 26: ReduceLROnPlateau reducing learning rate to 1.56249996052793e-06.\n",
      "\u001b[1m149/149\u001b[0m \u001b[32m━━━━━━━━━━━━━━━━━━━━\u001b[0m\u001b[37m\u001b[0m \u001b[1m880s\u001b[0m 6s/step - accuracy: 0.8246 - loss: 0.3640 - val_accuracy: 0.9308 - val_loss: 0.3254 - learning_rate: 3.1250e-06\n",
      "Epoch 27/40\n",
      "\u001b[1m149/149\u001b[0m \u001b[32m━━━━━━━━━━━━━━━━━━━━\u001b[0m\u001b[37m\u001b[0m \u001b[1m0s\u001b[0m 6s/step - accuracy: 0.8285 - loss: 0.3641\n",
      "Epoch 27: val_accuracy did not improve from 0.93711\n",
      "\u001b[1m149/149\u001b[0m \u001b[32m━━━━━━━━━━━━━━━━━━━━\u001b[0m\u001b[37m\u001b[0m \u001b[1m881s\u001b[0m 6s/step - accuracy: 0.8285 - loss: 0.3642 - val_accuracy: 0.9308 - val_loss: 0.3277 - learning_rate: 1.5625e-06\n",
      "Epoch 28/40\n",
      "\u001b[1m149/149\u001b[0m \u001b[32m━━━━━━━━━━━━━━━━━━━━\u001b[0m\u001b[37m\u001b[0m \u001b[1m0s\u001b[0m 6s/step - accuracy: 0.8265 - loss: 0.3601\n",
      "Epoch 28: val_accuracy did not improve from 0.93711\n",
      "\u001b[1m149/149\u001b[0m \u001b[32m━━━━━━━━━━━━━━━━━━━━\u001b[0m\u001b[37m\u001b[0m \u001b[1m877s\u001b[0m 6s/step - accuracy: 0.8264 - loss: 0.3602 - val_accuracy: 0.9245 - val_loss: 0.3262 - learning_rate: 1.5625e-06\n",
      "Epoch 29/40\n",
      "\u001b[1m149/149\u001b[0m \u001b[32m━━━━━━━━━━━━━━━━━━━━\u001b[0m\u001b[37m\u001b[0m \u001b[1m0s\u001b[0m 6s/step - accuracy: 0.8051 - loss: 0.3819\n",
      "Epoch 29: val_accuracy did not improve from 0.93711\n",
      "\n",
      "Epoch 29: ReduceLROnPlateau reducing learning rate to 7.81249980263965e-07.\n",
      "\u001b[1m149/149\u001b[0m \u001b[32m━━━━━━━━━━━━━━━━━━━━\u001b[0m\u001b[37m\u001b[0m \u001b[1m875s\u001b[0m 6s/step - accuracy: 0.8052 - loss: 0.3818 - val_accuracy: 0.9308 - val_loss: 0.3212 - learning_rate: 1.5625e-06\n",
      "Epoch 30/40\n",
      "\u001b[1m149/149\u001b[0m \u001b[32m━━━━━━━━━━━━━━━━━━━━\u001b[0m\u001b[37m\u001b[0m \u001b[1m0s\u001b[0m 6s/step - accuracy: 0.8128 - loss: 0.3752\n",
      "Epoch 30: val_accuracy did not improve from 0.93711\n",
      "\u001b[1m149/149\u001b[0m \u001b[32m━━━━━━━━━━━━━━━━━━━━\u001b[0m\u001b[37m\u001b[0m \u001b[1m874s\u001b[0m 6s/step - accuracy: 0.8129 - loss: 0.3751 - val_accuracy: 0.9308 - val_loss: 0.3277 - learning_rate: 7.8125e-07\n",
      "Epoch 31/40\n",
      "\u001b[1m149/149\u001b[0m \u001b[32m━━━━━━━━━━━━━━━━━━━━\u001b[0m\u001b[37m\u001b[0m \u001b[1m0s\u001b[0m 6s/step - accuracy: 0.8248 - loss: 0.3500\n",
      "Epoch 31: val_accuracy did not improve from 0.93711\n",
      "\u001b[1m149/149\u001b[0m \u001b[32m━━━━━━━━━━━━━━━━━━━━\u001b[0m\u001b[37m\u001b[0m \u001b[1m876s\u001b[0m 6s/step - accuracy: 0.8248 - loss: 0.3501 - val_accuracy: 0.9308 - val_loss: 0.3225 - learning_rate: 7.8125e-07\n",
      "Epoch 32/40\n",
      "\u001b[1m149/149\u001b[0m \u001b[32m━━━━━━━━━━━━━━━━━━━━\u001b[0m\u001b[37m\u001b[0m \u001b[1m0s\u001b[0m 6s/step - accuracy: 0.8267 - loss: 0.3631\n",
      "Epoch 32: val_accuracy did not improve from 0.93711\n",
      "\n",
      "Epoch 32: ReduceLROnPlateau reducing learning rate to 3.906249901319825e-07.\n",
      "\u001b[1m149/149\u001b[0m \u001b[32m━━━━━━━━━━━━━━━━━━━━\u001b[0m\u001b[37m\u001b[0m \u001b[1m875s\u001b[0m 6s/step - accuracy: 0.8267 - loss: 0.3631 - val_accuracy: 0.9308 - val_loss: 0.3258 - learning_rate: 7.8125e-07\n",
      "Epoch 33/40\n",
      "\u001b[1m149/149\u001b[0m \u001b[32m━━━━━━━━━━━━━━━━━━━━\u001b[0m\u001b[37m\u001b[0m \u001b[1m0s\u001b[0m 6s/step - accuracy: 0.8273 - loss: 0.3713\n",
      "Epoch 33: val_accuracy did not improve from 0.93711\n",
      "\u001b[1m149/149\u001b[0m \u001b[32m━━━━━━━━━━━━━━━━━━━━\u001b[0m\u001b[37m\u001b[0m \u001b[1m878s\u001b[0m 6s/step - accuracy: 0.8272 - loss: 0.3712 - val_accuracy: 0.9308 - val_loss: 0.3228 - learning_rate: 3.9062e-07\n",
      "Epoch 34/40\n",
      "\u001b[1m149/149\u001b[0m \u001b[32m━━━━━━━━━━━━━━━━━━━━\u001b[0m\u001b[37m\u001b[0m \u001b[1m0s\u001b[0m 6s/step - accuracy: 0.8271 - loss: 0.3585\n",
      "Epoch 34: val_accuracy did not improve from 0.93711\n",
      "\u001b[1m149/149\u001b[0m \u001b[32m━━━━━━━━━━━━━━━━━━━━\u001b[0m\u001b[37m\u001b[0m \u001b[1m879s\u001b[0m 6s/step - accuracy: 0.8271 - loss: 0.3585 - val_accuracy: 0.9308 - val_loss: 0.3259 - learning_rate: 3.9062e-07\n",
      "Epoch 35/40\n",
      "\u001b[1m149/149\u001b[0m \u001b[32m━━━━━━━━━━━━━━━━━━━━\u001b[0m\u001b[37m\u001b[0m \u001b[1m0s\u001b[0m 6s/step - accuracy: 0.8374 - loss: 0.3485\n",
      "Epoch 35: val_accuracy did not improve from 0.93711\n",
      "\n",
      "Epoch 35: ReduceLROnPlateau reducing learning rate to 1.9531249506599124e-07.\n",
      "\u001b[1m149/149\u001b[0m \u001b[32m━━━━━━━━━━━━━━━━━━━━\u001b[0m\u001b[37m\u001b[0m \u001b[1m884s\u001b[0m 6s/step - accuracy: 0.8373 - loss: 0.3486 - val_accuracy: 0.9308 - val_loss: 0.3235 - learning_rate: 3.9062e-07\n",
      "Epoch 36/40\n",
      "\u001b[1m149/149\u001b[0m \u001b[32m━━━━━━━━━━━━━━━━━━━━\u001b[0m\u001b[37m\u001b[0m \u001b[1m0s\u001b[0m 6s/step - accuracy: 0.8343 - loss: 0.3499\n",
      "Epoch 36: val_accuracy did not improve from 0.93711\n",
      "\u001b[1m149/149\u001b[0m \u001b[32m━━━━━━━━━━━━━━━━━━━━\u001b[0m\u001b[37m\u001b[0m \u001b[1m882s\u001b[0m 6s/step - accuracy: 0.8342 - loss: 0.3500 - val_accuracy: 0.9308 - val_loss: 0.3275 - learning_rate: 1.9531e-07\n",
      "Epoch 37/40\n",
      "\u001b[1m149/149\u001b[0m \u001b[32m━━━━━━━━━━━━━━━━━━━━\u001b[0m\u001b[37m\u001b[0m \u001b[1m0s\u001b[0m 6s/step - accuracy: 0.8284 - loss: 0.3588\n",
      "Epoch 37: val_accuracy did not improve from 0.93711\n",
      "\u001b[1m149/149\u001b[0m \u001b[32m━━━━━━━━━━━━━━━━━━━━\u001b[0m\u001b[37m\u001b[0m \u001b[1m885s\u001b[0m 6s/step - accuracy: 0.8283 - loss: 0.3588 - val_accuracy: 0.9308 - val_loss: 0.3297 - learning_rate: 1.9531e-07\n",
      "Epoch 38/40\n",
      "\u001b[1m149/149\u001b[0m \u001b[32m━━━━━━━━━━━━━━━━━━━━\u001b[0m\u001b[37m\u001b[0m \u001b[1m0s\u001b[0m 6s/step - accuracy: 0.8279 - loss: 0.3611\n",
      "Epoch 38: val_accuracy did not improve from 0.93711\n",
      "\n",
      "Epoch 38: ReduceLROnPlateau reducing learning rate to 9.765624753299562e-08.\n",
      "\u001b[1m149/149\u001b[0m \u001b[32m━━━━━━━━━━━━━━━━━━━━\u001b[0m\u001b[37m\u001b[0m \u001b[1m883s\u001b[0m 6s/step - accuracy: 0.8278 - loss: 0.3611 - val_accuracy: 0.9245 - val_loss: 0.3222 - learning_rate: 1.9531e-07\n",
      "Epoch 39/40\n",
      "\u001b[1m149/149\u001b[0m \u001b[32m━━━━━━━━━━━━━━━━━━━━\u001b[0m\u001b[37m\u001b[0m \u001b[1m0s\u001b[0m 6s/step - accuracy: 0.8337 - loss: 0.3544\n",
      "Epoch 39: val_accuracy did not improve from 0.93711\n",
      "\u001b[1m149/149\u001b[0m \u001b[32m━━━━━━━━━━━━━━━━━━━━\u001b[0m\u001b[37m\u001b[0m \u001b[1m981s\u001b[0m 7s/step - accuracy: 0.8336 - loss: 0.3545 - val_accuracy: 0.9308 - val_loss: 0.3272 - learning_rate: 9.7656e-08\n",
      "Epoch 40/40\n",
      "\u001b[1m149/149\u001b[0m \u001b[32m━━━━━━━━━━━━━━━━━━━━\u001b[0m\u001b[37m\u001b[0m \u001b[1m0s\u001b[0m 6s/step - accuracy: 0.8250 - loss: 0.3715\n",
      "Epoch 40: val_accuracy did not improve from 0.93711\n",
      "\u001b[1m149/149\u001b[0m \u001b[32m━━━━━━━━━━━━━━━━━━━━\u001b[0m\u001b[37m\u001b[0m \u001b[1m919s\u001b[0m 6s/step - accuracy: 0.8250 - loss: 0.3715 - val_accuracy: 0.9308 - val_loss: 0.3238 - learning_rate: 9.7656e-08\n"
     ]
    }
   ],
   "source": [
    "from tensorflow.keras.callbacks import ModelCheckpoint, ReduceLROnPlateau\n",
    "\n",
    "# Model checkpoint to save the best model in .keras format\n",
    "checkpoint = ModelCheckpoint(\n",
    "    \"deepfake_detection_model.keras\",  # Change to .keras\n",
    "    monitor=\"val_accuracy\",\n",
    "    save_best_only=True,\n",
    "    verbose=1\n",
    ")\n",
    "\n",
    "# Reduce learning rate on plateau\n",
    "lr_scheduler = ReduceLROnPlateau(\n",
    "    monitor=\"val_loss\",\n",
    "    factor=0.5,\n",
    "    patience=3,\n",
    "    verbose=1\n",
    ")\n",
    "\n",
    "# Train the model\n",
    "history = model.fit(\n",
    "    X_train_augmented, y_train_augmented,\n",
    "    validation_data=(X_val, y_val),\n",
    "    epochs=40,\n",
    "    batch_size=10,\n",
    "    callbacks=[checkpoint, lr_scheduler]\n",
    ")\n",
    "model.save(\"deepfake_detection_model.keras\")"
   ]
  },
  {
   "cell_type": "code",
   "execution_count": 5,
   "id": "cc5333f3",
   "metadata": {},
   "outputs": [
    {
     "name": "stdout",
     "output_type": "stream",
     "text": [
      "\u001b[1m5/5\u001b[0m \u001b[32m━━━━━━━━━━━━━━━━━━━━\u001b[0m\u001b[37m\u001b[0m \u001b[1m20s\u001b[0m 3s/step\n",
      "Test Accuracy: 92.50%\n",
      "Classification Report:\n",
      "              precision    recall  f1-score   support\n",
      "\n",
      "        REAL       0.96      0.82      0.88        55\n",
      "        FAKE       0.91      0.98      0.94       105\n",
      "\n",
      "    accuracy                           0.93       160\n",
      "   macro avg       0.93      0.90      0.91       160\n",
      "weighted avg       0.93      0.93      0.92       160\n",
      "\n"
     ]
    }
   ],
   "source": [
    "from sklearn.metrics import classification_report, accuracy_score\n",
    "\n",
    "# Load the best saved model\n",
    "from tensorflow.keras.models import load_model\n",
    "model = load_model('deepfake_detection_model.keras')\n",
    "\n",
    "# Evaluate on test set\n",
    "y_pred = model.predict(X_test)\n",
    "y_pred_classes = np.argmax(y_pred, axis=1)\n",
    "y_true = np.argmax(y_test, axis=1)\n",
    "\n",
    "# Metrics\n",
    "accuracy = accuracy_score(y_true, y_pred_classes)\n",
    "print(f\"Test Accuracy: {accuracy * 100:.2f}%\")\n",
    "\n",
    "# Precision, Recall, F1-Score\n",
    "print(\"Classification Report:\")\n",
    "print(classification_report(y_true, y_pred_classes, target_names=['REAL', 'FAKE']))"
   ]
  },
  {
   "cell_type": "code",
   "execution_count": 6,
   "id": "7dd27ba1",
   "metadata": {},
   "outputs": [
    {
     "data": {
      "image/png": "[encoded data removed]",
      "text/plain": [
       "<Figure size 1200x500 with 2 Axes>"
      ]
     },
     "metadata": {},
     "output_type": "display_data"
    },
    {
     "name": "stdout",
     "output_type": "stream",
     "text": [
      "\u001b[1m5/5\u001b[0m \u001b[32m━━━━━━━━━━━━━━━━━━━━\u001b[0m\u001b[37m\u001b[0m \u001b[1m13s\u001b[0m 3s/step\n"
     ]
    },
    {
     "data": {
      "image/png": "[encoded data removed]",
      "text/plain": [
       "<Figure size 800x600 with 2 Axes>"
      ]
     },
     "metadata": {},
     "output_type": "display_data"
    },
    {
     "name": "stdout",
     "output_type": "stream",
     "text": [
      "              precision    recall  f1-score   support\n",
      "\n",
      "        Real       0.96      0.82      0.88        55\n",
      "        Fake       0.91      0.98      0.94       105\n",
      "\n",
      "    accuracy                           0.93       160\n",
      "   macro avg       0.93      0.90      0.91       160\n",
      "weighted avg       0.93      0.93      0.92       160\n",
      "\n"
     ]
    }
   ],
   "source": [
    "import matplotlib.pyplot as plt\n",
    "from sklearn.metrics import confusion_matrix, classification_report\n",
    "import seaborn as sns\n",
    "import numpy as np\n",
    "\n",
    "# Plot accuracy and loss graphs\n",
    "def plot_training_history(history):\n",
    "    # Accuracy\n",
    "    plt.figure(figsize=(12, 5))\n",
    "    plt.subplot(1, 2, 1)\n",
    "    plt.plot(history.history['accuracy'], label='Train Accuracy')\n",
    "    plt.plot(history.history['val_accuracy'], label='Validation Accuracy')\n",
    "    plt.title('Model Accuracy')\n",
    "    plt.xlabel('Epochs')\n",
    "    plt.ylabel('Accuracy')\n",
    "    plt.legend()\n",
    "\n",
    "    # Loss\n",
    "    plt.subplot(1, 2, 2)\n",
    "    plt.plot(history.history['loss'], label='Train Loss')\n",
    "    plt.plot(history.history['val_loss'], label='Validation Loss')\n",
    "    plt.title('Model Loss')\n",
    "    plt.xlabel('Epochs')\n",
    "    plt.ylabel('Loss')\n",
    "    plt.legend()\n",
    "\n",
    "    plt.tight_layout()\n",
    "    plt.show()\n",
    "\n",
    "# Compute confusion matrix\n",
    "def plot_confusion_matrix(model, X_test, y_test):\n",
    "    # Get predictions\n",
    "    y_pred = model.predict(X_test)\n",
    "    y_pred_classes = np.argmax(y_pred, axis=1)\n",
    "    y_true = np.argmax(y_test, axis=1)\n",
    "\n",
    "    # Compute confusion matrix\n",
    "    cm = confusion_matrix(y_true, y_pred_classes)\n",
    "    cm_labels = ['Real', 'Fake']\n",
    "\n",
    "    # Plot confusion matrix\n",
    "    plt.figure(figsize=(8, 6))\n",
    "    sns.heatmap(cm, annot=True, fmt='d', cmap='Blues', xticklabels=cm_labels, yticklabels=cm_labels)\n",
    "    plt.title('Confusion Matrix')\n",
    "    plt.xlabel('Predicted Labels')\n",
    "    plt.ylabel('True Labels')\n",
    "    plt.show()\n",
    "\n",
    "    # Classification report\n",
    "    print(classification_report(y_true, y_pred_classes, target_names=cm_labels))\n",
    "\n",
    "# Plot training history\n",
    "plot_training_history(history)\n",
    "\n",
    "# Plot confusion matrix\n",
    "plot_confusion_matrix(model, X_test, y_test)\n"
   ]
  },
  {
   "cell_type": "code",
   "execution_count": 7,
   "id": "91bb50cd",
   "metadata": {},
   "outputs": [],
   "source": [
    "#Real Test\n",
    "\n",
    "import os\n",
    "import cv2\n",
    "import numpy as np\n",
    "from tqdm import tqdm\n",
    "from sklearn.model_selection import train_test_split\n",
    "from tensorflow.keras.utils import to_categorical\n",
    "from tensorflow.keras.preprocessing.image import ImageDataGenerator"
   ]
  },
  {
   "cell_type": "code",
   "execution_count": 8,
   "id": "99b153c9",
   "metadata": {},
   "outputs": [],
   "source": [
    "# Function to extract frames from a video\n",
    "def extract_frames(video_path, output_size=(128, 128), frame_count=10):\n",
    "    cap = cv2.VideoCapture(video_path)\n",
    "    frames = []\n",
    "    total_frames = int(cap.get(cv2.CAP_PROP_FRAME_COUNT))\n",
    "    step = max(total_frames // frame_count, 1)  # Uniform sampling\n",
    "    \n",
    "    for i in range(frame_count):\n",
    "        cap.set(cv2.CAP_PROP_POS_FRAMES, i * step)\n",
    "        ret, frame = cap.read()\n",
    "        if not ret:\n",
    "            break\n",
    "        frame = cv2.resize(frame, output_size)\n",
    "        frames.append(frame)\n",
    "    cap.release()\n",
    "    return np.array(frames)"
   ]
  },
  {
   "cell_type": "code",
   "execution_count": 9,
   "id": "09e1ef19",
   "metadata": {},
   "outputs": [
    {
     "name": "stdout",
     "output_type": "stream",
     "text": [
      "Real Video Prediction:\n"
     ]
    },
    {
     "ename": "ValueError",
     "evalue": "Exception encountered when calling Sequential.call().\n\n\u001b[1mInvalid input shape for input Tensor(\"data:0\", shape=(1, 0), dtype=float32). Expected shape (None, 10, 128, 128, 3), but input has incompatible shape (1, 0)\u001b[0m\n\nArguments received by Sequential.call():\n  • inputs=tf.Tensor(shape=(1, 0), dtype=float32)\n  • training=False\n  • mask=None\n  • kwargs=<class 'inspect._empty'>",
     "output_type": "error",
     "traceback": [
      "\u001b[31m---------------------------------------------------------------------------\u001b[39m",
      "\u001b[31mValueError\u001b[39m                                Traceback (most recent call last)",
      "\u001b[36mCell\u001b[39m\u001b[36m \u001b[39m\u001b[32mIn[9]\u001b[39m\u001b[32m, line 22\u001b[39m\n\u001b[32m     19\u001b[39m fake_sample_path = os.path.join(FAKE_PATH, \u001b[33m\"\u001b[39m\u001b[33m/kaggle/input/deepfake-testing-videos/modeloutput1.mp4\u001b[39m\u001b[33m\"\u001b[39m)  \u001b[38;5;66;03m# Replace with fake video path\u001b[39;00m\n\u001b[32m     21\u001b[39m \u001b[38;5;28mprint\u001b[39m(\u001b[33m\"\u001b[39m\u001b[33mReal Video Prediction:\u001b[39m\u001b[33m\"\u001b[39m)\n\u001b[32m---> \u001b[39m\u001b[32m22\u001b[39m \u001b[43mpredict_video\u001b[49m\u001b[43m(\u001b[49m\u001b[43mreal_sample_path\u001b[49m\u001b[43m,\u001b[49m\u001b[43mloaded_model\u001b[49m\u001b[43m)\u001b[49m\n\u001b[32m     24\u001b[39m \u001b[38;5;28mprint\u001b[39m(\u001b[33m\"\u001b[39m\u001b[33mFake Video Prediction:\u001b[39m\u001b[33m\"\u001b[39m)\n\u001b[32m     25\u001b[39m predict_video(fake_sample_path,loaded_model)\n",
      "\u001b[36mCell\u001b[39m\u001b[36m \u001b[39m\u001b[32mIn[9]\u001b[39m\u001b[32m, line 10\u001b[39m, in \u001b[36mpredict_video\u001b[39m\u001b[34m(video_path, model, output_size, frame_count)\u001b[39m\n\u001b[32m      8\u001b[39m frames = frames / \u001b[32m255.0\u001b[39m  \u001b[38;5;66;03m# Normalize\u001b[39;00m\n\u001b[32m      9\u001b[39m frames = np.expand_dims(frames, axis=\u001b[32m0\u001b[39m)  \u001b[38;5;66;03m# Add batch dimension\u001b[39;00m\n\u001b[32m---> \u001b[39m\u001b[32m10\u001b[39m prediction = \u001b[43mmodel\u001b[49m\u001b[43m.\u001b[49m\u001b[43mpredict\u001b[49m\u001b[43m(\u001b[49m\u001b[43mframes\u001b[49m\u001b[43m)\u001b[49m\n\u001b[32m     11\u001b[39m label = \u001b[33m\"\u001b[39m\u001b[33mFAKE\u001b[39m\u001b[33m\"\u001b[39m \u001b[38;5;28;01mif\u001b[39;00m np.argmax(prediction) == \u001b[32m1\u001b[39m \u001b[38;5;28;01melse\u001b[39;00m \u001b[33m\"\u001b[39m\u001b[33mREAL\u001b[39m\u001b[33m\"\u001b[39m\n\u001b[32m     12\u001b[39m confidence = prediction[\u001b[32m0\u001b[39m][np.argmax(prediction)]\n",
      "\u001b[36mFile \u001b[39m\u001b[32m~\\AppData\\Local\\Packages\\PythonSoftwareFoundation.Python.3.11_qbz5n2kfra8p0\\LocalCache\\local-packages\\Python311\\site-packages\\keras\\src\\utils\\traceback_utils.py:122\u001b[39m, in \u001b[36mfilter_traceback.<locals>.error_handler\u001b[39m\u001b[34m(*args, **kwargs)\u001b[39m\n\u001b[32m    119\u001b[39m     filtered_tb = _process_traceback_frames(e.__traceback__)\n\u001b[32m    120\u001b[39m     \u001b[38;5;66;03m# To get the full stack trace, call:\u001b[39;00m\n\u001b[32m    121\u001b[39m     \u001b[38;5;66;03m# `keras.config.disable_traceback_filtering()`\u001b[39;00m\n\u001b[32m--> \u001b[39m\u001b[32m122\u001b[39m     \u001b[38;5;28;01mraise\u001b[39;00m e.with_traceback(filtered_tb) \u001b[38;5;28;01mfrom\u001b[39;00m\u001b[38;5;250m \u001b[39m\u001b[38;5;28;01mNone\u001b[39;00m\n\u001b[32m    123\u001b[39m \u001b[38;5;28;01mfinally\u001b[39;00m:\n\u001b[32m    124\u001b[39m     \u001b[38;5;28;01mdel\u001b[39;00m filtered_tb\n",
      "\u001b[36mFile \u001b[39m\u001b[32m~\\AppData\\Local\\Packages\\PythonSoftwareFoundation.Python.3.11_qbz5n2kfra8p0\\LocalCache\\local-packages\\Python311\\site-packages\\keras\\src\\models\\functional.py:276\u001b[39m, in \u001b[36mFunctional._adjust_input_rank\u001b[39m\u001b[34m(self, flat_inputs)\u001b[39m\n\u001b[32m    274\u001b[39m             adjusted.append(ops.expand_dims(x, axis=-\u001b[32m1\u001b[39m))\n\u001b[32m    275\u001b[39m             \u001b[38;5;28;01mcontinue\u001b[39;00m\n\u001b[32m--> \u001b[39m\u001b[32m276\u001b[39m     \u001b[38;5;28;01mraise\u001b[39;00m \u001b[38;5;167;01mValueError\u001b[39;00m(\n\u001b[32m    277\u001b[39m         \u001b[33mf\u001b[39m\u001b[33m\"\u001b[39m\u001b[33mInvalid input shape for input \u001b[39m\u001b[38;5;132;01m{\u001b[39;00mx\u001b[38;5;132;01m}\u001b[39;00m\u001b[33m. Expected shape \u001b[39m\u001b[33m\"\u001b[39m\n\u001b[32m    278\u001b[39m         \u001b[33mf\u001b[39m\u001b[33m\"\u001b[39m\u001b[38;5;132;01m{\u001b[39;00mref_shape\u001b[38;5;132;01m}\u001b[39;00m\u001b[33m, but input has incompatible shape \u001b[39m\u001b[38;5;132;01m{\u001b[39;00mx.shape\u001b[38;5;132;01m}\u001b[39;00m\u001b[33m\"\u001b[39m\n\u001b[32m    279\u001b[39m     )\n\u001b[32m    280\u001b[39m \u001b[38;5;66;03m# Add back metadata.\u001b[39;00m\n\u001b[32m    281\u001b[39m \u001b[38;5;28;01mfor\u001b[39;00m i \u001b[38;5;129;01min\u001b[39;00m \u001b[38;5;28mrange\u001b[39m(\u001b[38;5;28mlen\u001b[39m(flat_inputs)):\n",
      "\u001b[31mValueError\u001b[39m: Exception encountered when calling Sequential.call().\n\n\u001b[1mInvalid input shape for input Tensor(\"data:0\", shape=(1, 0), dtype=float32). Expected shape (None, 10, 128, 128, 3), but input has incompatible shape (1, 0)\u001b[0m\n\nArguments received by Sequential.call():\n  • inputs=tf.Tensor(shape=(1, 0), dtype=float32)\n  • training=False\n  • mask=None\n  • kwargs=<class 'inspect._empty'>"
     ]
    }
   ],
   "source": [
    "from tensorflow.keras.models import load_model\n",
    "\n",
    "# Load the model for real-time detection\n",
    "loaded_model = load_model('deepfake_detection_model.keras')\n",
    "\n",
    "def predict_video(video_path, model, output_size=(128, 128), frame_count=10):\n",
    "    frames = extract_frames(video_path, output_size, frame_count)\n",
    "    frames = frames / 255.0  # Normalize\n",
    "    frames = np.expand_dims(frames, axis=0)  # Add batch dimension\n",
    "    prediction = model.predict(frames)\n",
    "    label = \"FAKE\" if np.argmax(prediction) == 1 else \"REAL\"\n",
    "    confidence = prediction[0][np.argmax(prediction)]\n",
    "    print(f\"Prediction: {label} (Confidence: {confidence:.2f})\")\n",
    "    \n",
    "REAL_PATH = r\"D:\\Projects\\DeepFake_Detection\\input__data\\real\"\n",
    "FAKE_PATH = r\"D:\\Projects\\DeepFake_Detection\\input__data\\fake\"\n",
    "# Test prediction on a video\n",
    "real_sample_path = os.path.join(REAL_PATH, \"/kaggle/input/deepfake-testing-videos/model1.mp4\")  # Replace with real video path\n",
    "fake_sample_path = os.path.join(FAKE_PATH, \"/kaggle/input/deepfake-testing-videos/modeloutput1.mp4\")  # Replace with fake video path\n",
    "\n",
    "print(\"Real Video Prediction:\")\n",
    "predict_video(real_sample_path,loaded_model)\n",
    "\n",
    "print(\"Fake Video Prediction:\")\n",
    "predict_video(fake_sample_path,loaded_model)"
   ]
  }
 ],
 "metadata": {
  "kernelspec": {
   "display_name": "Python 3",
   "language": "python",
   "name": "python3"
  },
  "language_info": {
   "codemirror_mode": {
    "name": "ipython",
    "version": 3
   },
   "file_extension": ".py",
   "mimetype": "text/x-python",
   "name": "python",
   "nbconvert_exporter": "python",
   "pygments_lexer": "ipython3",
   "version": "3.11.9"
  }
 },
 "nbformat": 4,
 "nbformat_minor": 5
}
